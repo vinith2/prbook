{
 "cells": [
  {
   "cell_type": "code",
   "execution_count": 1,
   "id": "f83815f1",
   "metadata": {
    "tags": [
     "hide-input"
    ]
   },
   "outputs": [
    {
     "ename": "ModuleNotFoundError",
     "evalue": "No module named 'tqdm'",
     "output_type": "error",
     "traceback": [
      "\u001b[0;31m---------------------------------------------------------------------------\u001b[0m",
      "\u001b[0;31mModuleNotFoundError\u001b[0m                       Traceback (most recent call last)",
      "Cell \u001b[0;32mIn[1], line 4\u001b[0m\n\u001b[1;32m      2\u001b[0m \u001b[38;5;28;01mimport\u001b[39;00m \u001b[38;5;21;01mmatplotlib\u001b[39;00m\u001b[38;5;21;01m.\u001b[39;00m\u001b[38;5;21;01mpyplot\u001b[39;00m \u001b[38;5;28;01mas\u001b[39;00m \u001b[38;5;21;01mplt\u001b[39;00m\n\u001b[1;32m      3\u001b[0m \u001b[38;5;28;01mimport\u001b[39;00m \u001b[38;5;21;01mmatplotlib\u001b[39;00m \u001b[38;5;28;01mas\u001b[39;00m \u001b[38;5;21;01mmpl\u001b[39;00m\n\u001b[0;32m----> 4\u001b[0m \u001b[38;5;28;01mfrom\u001b[39;00m \u001b[38;5;21;01mtqdm\u001b[39;00m \u001b[38;5;28;01mimport\u001b[39;00m tqdm\n\u001b[1;32m      6\u001b[0m mpl\u001b[38;5;241m.\u001b[39mrcParams[\u001b[38;5;124m'\u001b[39m\u001b[38;5;124maxes.spines.top\u001b[39m\u001b[38;5;124m'\u001b[39m] \u001b[38;5;241m=\u001b[39m \u001b[38;5;241m0\u001b[39m\n\u001b[1;32m      7\u001b[0m mpl\u001b[38;5;241m.\u001b[39mrcParams[\u001b[38;5;124m'\u001b[39m\u001b[38;5;124maxes.spines.right\u001b[39m\u001b[38;5;124m'\u001b[39m] \u001b[38;5;241m=\u001b[39m \u001b[38;5;241m0\u001b[39m\n",
      "\u001b[0;31mModuleNotFoundError\u001b[0m: No module named 'tqdm'"
     ]
    }
   ],
   "source": [
    "import numpy as np\n",
    "import matplotlib.pyplot as plt\n",
    "import matplotlib as mpl\n",
    "from tqdm import tqdm\n",
    "\n",
    "mpl.rcParams['axes.spines.top'] = 0\n",
    "mpl.rcParams['axes.spines.right'] = 0\n",
    "mpl.rcParams['axes.spines.left'] = 1\n",
    "mpl.rcParams['axes.spines.bottom'] = 1\n",
    "mpl.rcParams.update({'font.size': 12})"
   ]
  },
  {
   "cell_type": "markdown",
   "id": "feabf666",
   "metadata": {},
   "source": [
    "# Introduction\n",
    "\n",
    "\n",
    "## What is the plan?\n",
    "\n",
    "Pattern recognition is about recognizing patterns. It is almost synonymous with supervised learning, although unsupervised learning plays an important role in feature design. To really understand pattern recognition you need to get comfortable with a certain amount of math, perhaps more than you would like. This will be hard unless you believe in it and perhaps even like it.\n",
    "\n",
    "In order to create context for all that math, instead of starting by history or philosophy or by defining \"patterns\" and \"recognitions\", let us start by writing some code to recognize patterns.\n",
    "\n",
    "\n",
    "## The MNIST dataset\n",
    "\n",
    "We will work with a notorious dataset of handwritten digits called MNIST. According to this interview, even Geoff Hinton, another godfather of deep learning and a Turing co-awardee of LeCun, tests ideas in Matlab on a subsampled MNIST dataset he can keep on his laptop and work with fast.\n",
    "\n",
    "\n",
    "```{figure} ./images/lecun-mnist.jpg\n",
    "Yann LeCun and his MNIST dataset of handwritten digits.\n",
    "```\n",
    "\n",
    "Yann LeCun is a very early evangelist of convolutional neural networks trained by backpropagation. The role of datasets, challenges, benchmarks in the \"deep learning revolution\" was recognized already 20-something years ago by David Donoho in his essay. Their critical importance deserves a critical analytic eye, so machine learning researchers like Ben Recht are now looking at them. Yann LeCun is the creator of the indesctructible MNIST dataset (factcheck).\n",
    "\n",
    "## MNIST\n",
    "\n",
    "We start by loading and displaying a couple of digits. There are many, many ways to get MNIST digits in your Python environment and I simply chose one that looked reasonable for my purpose."
   ]
  },
  {
   "cell_type": "code",
   "execution_count": null,
   "id": "8041b7bd",
   "metadata": {},
   "outputs": [],
   "source": [
    "from mlxtend.data import loadlocal_mnist\n",
    "\n",
    "X_train, y_train = loadlocal_mnist(\n",
    "        images_path='./book_data/train-images-idx3-ubyte', \n",
    "        labels_path='./book_data/train-labels-idx1-ubyte'\n",
    "        )\n",
    "\n",
    "fig, axs = plt.subplots(ncols=4, nrows=1, figsize=(14, 3))\n",
    "for ax in axs:\n",
    "    ax.imshow(X_train[np.random.randint(1000)].reshape(28, 28), cmap='gray')"
   ]
  },
  {
   "cell_type": "markdown",
   "id": "ed8c64db",
   "metadata": {},
   "source": [
    "## Our goal: ship a PR system\n",
    "\n",
    "We are running ahead here so don't worry if not every detail is super-clear to you at this point and try to get a sense of the big picture. In particular, don't worry about the Python codes on the first read.\n",
    "\n",
    "The usual setup in pattern recognition problems is that of supervised learning (the two terms are all but synonymouos, minus the culture of \"object recognition\").\n",
    "\n",
    "The train--test split is a hallmark of supervised learning.\n",
    "While we are designing our pattern recognition system we can do whatever we want with the training set but we are not allowed to touch the test set. Once the system is designed and trained we apply it to the test set to get a sense of how it'll perform on new inputs. Of course, we assume that these new inputs will somehow resemble the ones used for training.\n",
    "\n",
    "\n",
    "## Let's focus on two digits: binary classification\n",
    "\n",
    "To avoid needless complexity, we will first try to build a _binary_ classifier which distinguishes between two classes of handwritten digits. For example, it should recognize whether the input digit is a \"4\" or a \"7\". We begin by writing some spaghetti code to extract a random sample which only contains the chosen two digits."
   ]
  },
  {
   "cell_type": "code",
   "execution_count": null,
   "id": "1ad22267",
   "metadata": {},
   "outputs": [],
   "source": [
    "classes = [4, 7]\n",
    "d = 28**2\n",
    "X = np.ndarray((0, d))\n",
    "y = np.ndarray((0, 1))\n",
    "\n",
    "for cl in classes:\n",
    "    X = np.vstack((X, X_train[y_train == cl]))\n",
    "    y = np.vstack((y, y_train[y_train == cl, np.newaxis]))\n",
    "\n",
    "n = 5000\n",
    "shuffle_idx = np.random.choice(len(y), n)\n",
    "X = X[shuffle_idx]\n",
    "y = y[shuffle_idx].flatten()\n",
    "y = 2*(y == classes[0]) - 1"
   ]
  },
  {
   "cell_type": "markdown",
   "id": "6375cfdd",
   "metadata": {},
   "source": [
    "We quickly verify that we indeed only have the two chosen digits by showing a small random sample."
   ]
  },
  {
   "cell_type": "code",
   "execution_count": null,
   "id": "d6570f75",
   "metadata": {},
   "outputs": [],
   "source": [
    "fig, axs = plt.subplots(ncols=4, nrows=1, figsize=(14, 3))\n",
    "for ax in axs:\n",
    "    ax.imshow(X[np.random.randint(1000)].reshape(28, 28), cmap='gray')"
   ]
  },
  {
   "cell_type": "markdown",
   "id": "cc83effe",
   "metadata": {},
   "source": [
    "## Rule 0: simple ideas first\n",
    "\n",
    "We begin with a very simple idea (although perhaps the second one will be even simpler... ymmv). In mathematics and machine learning, _simple_ often means _linear_, so we start with a linear classifier. What do we mean by linear?\n",
    "\n",
    "Classifiers output discrete labels. In our case the label is the digit, but since we're only looking at two digits we can use labels +1 and -1. The usual way to obtain these labels is to apply a function to a digit and then take the sign of the output,\n",
    "\n",
    "$$\n",
    "\t\\hat{y} = \\mathrm{sign}(f(\\text{digit}; \\theta)).\n",
    "$$\n",
    "We use a generic symbol $\\theta$ to indicate our function has some parameters. The whole point of \"learning\" or \"training\" is to determine the parameters which yield decent classification. The hat on $\\hat{y}$ indicates an _estimate_ or a _prediction_ we are making about the true label $y$.\n",
    "\n",
    "MNIST digits are 8-bit grayscale images of size $28 \\times 28$. Denoting a digit by $\\mathbf{x}$, we can fancily write\n",
    "\n",
    "$$\n",
    "\t\\mathbf{x} \\in \\{0, 1, \\ldots, 255\\}^{28 \\times 28}.\n",
    "$$\n",
    "\n",
    "Instead of working with a square grid of pixels as above, we will instead work with its vectorized version obtain by stacking all rows or all columns into a long vector of length $28^2 = 784$. The choice of rows or columns (or any other scheme) is irrelevant as long as we consistently stick to it. We will sometimes denote a vectorization of a matrix by $\\mathrm{vec}(\\mathbf{x})$, but here we will abuse notation (abusing notation is math--academic speak) and simply again write $\\mathbf{x}$,\n",
    "\n",
    "$$\n",
    "    \\mathbf{x} = \n",
    "    \\begin{bmatrix}\n",
    "    x_1 \\\\ x_2 \\\\ \\vdots \\\\ x_d,\n",
    "    \\end{bmatrix},\n",
    "$$\n",
    "with $d = 784$.\n",
    "\n",
    "We said that we will build a linear classifier. This means that $f$ is a linear function: \n",
    "\n",
    "$$\n",
    "\tf(\\alpha \\mathbf{x}_1 + \\beta \\mathbf{x}_2) = \\alpha f(\\mathbf{x}_1) + \\beta f(\\mathbf{x}_2).\n",
    "$$\n",
    "\n",
    "It can be checked that all scalar-valued linear functions of $\\mathbf{x}$ are given as dot products with some vector of weights $\\mathbf{w}$. Thus our classifier returns the label\n",
    "\n",
    "$$\n",
    "\t\\hat{y} = \\mathrm{sign}\\left(\\sum_{i = 1}^d w_i x_i\\right) = \\mathrm{sign}(\\mathbf{w} \\cdot \\mathbf{x}) = \\mathrm{sign}(\\langle \\mathbf{w}, \\mathbf{x} \\rangle) = \\mathrm{sign}(\\mathbf{w}^T \\mathbf{x}).\n",
    "$$\n",
    "Note that $\\theta = \\mathbf{w}$.\n",
    "\n",
    "\n",
    "## Choosing the right weights\n",
    "\n",
    "We now need to decide how to choose the best weights $\\mathbf{w}$. In order to do that we have to clearly state what we mean by _best_, but before doing that let us try something goofy 🤭: random weights. More concretely let us independently sample each $w_i$ from a standard normal distribution. (Standard means zero mean and unit variance)."
   ]
  },
  {
   "cell_type": "code",
   "execution_count": null,
   "id": "9b06c808",
   "metadata": {
    "slideshow": {
     "slide_type": "subslide"
    }
   },
   "outputs": [],
   "source": [
    "# generate random weights\n",
    "w_random = np.random.randn(d)\n",
    "\n",
    "# predict labels\n",
    "y_est = np.sign(X @ w_random)\n",
    "\n",
    "correct = np.sum(y_est * y == 1)\n",
    "print('%d out of %d patterns correctly classified (%5.2f%%)' % (correct, n, 100*correct/n))"
   ]
  },
  {
   "cell_type": "markdown",
   "id": "01d2c026",
   "metadata": {},
   "source": [
    "Not very surprisingly, a linear classifier with random weights does not achieve a particularly impressive digit classification performance. On the other hand, we can see that there the values of $\\mathbf{w}_{\\text{random}}^T \\mathbf{x}$ vary wildly---some are very small and thus \"almost\" correctly classified."
   ]
  },
  {
   "cell_type": "code",
   "execution_count": null,
   "id": "ebca0af0",
   "metadata": {},
   "outputs": [],
   "source": [
    "fig, ax = plt.subplots(figsize=(7, 5))\n",
    "ax.hist((X @ w_random)[y_est * y == -1], bins=20)\n",
    "ax.set_title('$\\mathbf{w}_{\\mathrm{random}}^T \\mathbf{x}$ for misclassified patterns');"
   ]
  },
  {
   "cell_type": "markdown",
   "id": "1264a450",
   "metadata": {},
   "source": [
    "A thought that naturally comes to mind is: can we somehow perturb the weights so that some of those patterns that are almost correctly classified pass to the correct class. Before figuring out how to do this visually, by geometry, we can think about the problem purely algebraically. Suppose that some training pattern $\\mathbf{x}_{-1}$ whose label is $-1$ is misclassified; that is, $\\mathbf{w}_{\\mathrm{random}}^T \\mathbf{x}_{-1} > 0$. A simple way to change the weights so that this pattern becomes correctly classified is to subtract from $\\mathbf{w}_{\\mathrm{rnd}}$ some multiple of $\\mathbf{x}_{-1}$ since that will decrease the dot product and (for a sufficiently large multiplicative factor) make it negative, which is what we want. Indeed, letting $\\alpha > 0$\n",
    "\n",
    "$$\n",
    "    (\\mathbf{w}_{\\mathrm{rnd}} - \\alpha \\mathbf{x}_{-1})^T \\mathbf{x}_{-1}\n",
    "    =\n",
    "    \\mathbf{w}_{\\mathrm{rnd}}^T \\mathbf{x}_{-1} - \\alpha \\| \\mathbf{x}_{-1} \\|^2  \n",
    "    < \n",
    "    \\mathbf{w}_{\\mathrm{rnd}}^T \\mathbf{x}_{-1}.\n",
    "$$\n",
    "For $\\alpha$ big enough this quantity will become negative. Similarly, if a pattern $\\mathbf{x}_{+1}$ with label $+1$ is misclassified so that $\\mathbf{w}_{\\mathrm{random}}^T \\mathbf{x}_{+1} < 0$, then we could _add_ a multiple of $\\mathbf{x}_{+1}$ to make the inner product positive. For $\\alpha > 0$,\n",
    "\n",
    "$$\n",
    "    (\\mathbf{w}_{\\mathrm{rnd}} + \\alpha \\, \\mathbf{x}_{+1})^T \\mathbf{x}_{+1}\n",
    "    =\n",
    "    \\mathbf{w}_{\\mathrm{rnd}}^T \\mathbf{x}_{+1} + \\alpha \\| \\mathbf{x}_{+1} \\|^2  \n",
    "    > \n",
    "    \\mathbf{w}_{\\mathrm{rnd}}^T \\mathbf{x}_{+1}.\n",
    "$$\n",
    "For $\\alpha$ big enough this quantity will become positive.\n",
    "\n",
    "We can visualize this by pretending that we work with \"digits\" that only have 2 pixels (instead of $28 \\times 28 = 784$). The usefulness of this simplification is that now every \"digit\" can be identified with a point in the plane with coordinates $(x, y) = (\\textsf{pixel 1}, \\textsf{pixel 2})$. Consider the situation in the left subfigure below. The weight vector $\\mathbf{w}$ defines a line which splits the space into a positive and a negative halfspace. All points in the upper halfspace which is in the direction of $\\mathbf{w}$ form accute angles ($< 90^\\circ$) with $\\mathbf{w}$ and thus have a positive inner product with $\\mathbf{w}$ (because the cosine of an accute angle is positive). Similarly, all points in the lower halfspace form obtuse angles with $\\mathbf{w}$ and thus have negative inner products with $\\mathbf{w}$. If blue squares are the positive class (label +1) and red circles the negative class (label -1), then we see from this picture that the current classifier misclassifies three training patterns. \n",
    "\n",
    "| before     | after      |\n",
    "| -------- | --------- |\n",
    "| {{fig2Da}} | {{fig2Db}} |\n",
    "\n",
    "Let us try to perturb (rotate) $\\mathbf{w}$ so that the misclassified red circle closest to the boundary becomes correctly classified. Let's call this pattern $\\tilde{\\mathbf{x}}$. We have that\n",
    "\n",
    "$$\n",
    "\\mathbf{w}^T \\tilde{\\mathbf{x}} > 0 \n",
    "$$\n",
    "but it should be negative. Per above discussion, we want to compute a perturbation in the direction of negative $\\tilde{\\mathbf{x}}$, say $- \\alpha \\tilde{\\mathbf{x}}$ so that\n",
    "\n",
    "$$\n",
    "    (\\mathbf{w} - \\alpha \\tilde{\\mathbf{x}})^T \\tilde{\\mathbf{x}} = 0\n",
    "$$\n",
    "which will place $\\tilde{\\mathbf{x}}$ exactly on the decision boundary (exactly on the line). Thus\n",
    "\n",
    "$$\n",
    "    \\mathbf{w}^T \\tilde{\\mathbf{x}} - \\alpha \\tilde{\\mathbf{x}}^T \\tilde{\\mathbf{x}} = 0 \n",
    "    \\Longrightarrow\n",
    "    \\alpha = \\frac{\\mathbf{w}^T \\tilde{\\mathbf{x}}}{\\tilde{\\mathbf{x}}^T \\tilde{\\mathbf{x}}}. \n",
    "$$\n",
    "\n",
    "Let's now apply these ideas to digit classification."
   ]
  },
  {
   "cell_type": "code",
   "execution_count": null,
   "id": "828007b8",
   "metadata": {},
   "outputs": [],
   "source": [
    "# find indices of misclassfied examples\n",
    "idx_miss = np.where(y != y_est)[0]\n",
    "\n",
    "idx_miss\n",
    "i = idx_miss[np.argmin(np.abs((X @ w_random)[idx_miss]))]\n",
    "dot_i = np.dot(X[i], w_random)\n",
    "print('The smallest absolute dot product is %.2e' % (dot_i,))"
   ]
  },
  {
   "cell_type": "markdown",
   "id": "c979a417",
   "metadata": {},
   "source": [
    "We identified the pattern (a digit) which is the closest to the linear decision boundary in the sense of angle). Note that this does not mean that it is the closest in distance.\n",
    "```{admonition} Why?\n",
    ":class: tip, dropdown\n",
    "The dot product $\\mathbf{a}^T \\mathbf{b} = \\| \\mathbf{a} \\| \\| \\mathbf{b} \\| \\cos \\angle(\\mathbf{a}, \\mathbf{b})$. Thus if the digit in question has a particularly large Euclidean norm (it is far from the origin), the angle with the boundary could be small but the distance to the boundary still large.\n",
    "```\n",
    "\n",
    "Now we add the computed perturbation to the weights, but we scale it by a number slightly larger than 1 so that the digit does not land on the decision boundary but (barely) crosses to the other side."
   ]
  },
  {
   "cell_type": "code",
   "execution_count": null,
   "id": "f8fe2762",
   "metadata": {},
   "outputs": [],
   "source": [
    "w_bumped = w_random - 1.000001 * X[i] * dot_i \\\n",
    "                / np.linalg.norm(X[i])**2\n",
    "y_est_bumped = np.sign(X @ w_bumped)\n",
    "correct_bumped = np.sum(y_est_bumped * y == 1)\n",
    "print('Correct before: %d/%d, correct after: %d/%d' % (correct, n, correct_bumped, n))"
   ]
  },
  {
   "cell_type": "markdown",
   "id": "c267e14d",
   "metadata": {},
   "source": [
    "We see that the new weights indeed correctly classify one additional digit which was previously misclassified. The reason to multiply by 1.000001 instead of, for example, by 2, is that in this latter case we would likely mess things up for some digits that used to be classified correctly (as well as correct things for _other_ digits that used to be misclassified). A simple count would then not be sufficient to check whether the ideas work.\n",
    "\n",
    "## Let's make this into an algorithm\n",
    "\n",
    "A question comes to mind: even if we mess things up for some other digits, we could then apply our perturbation ideas to them, and cycle over misclassified digits until, hopefully, most of them become correctly classified. As we will see, this is not always possible (the patterns should be _linearly separable_ for it to be possible; in the above figure, there should exist a line which perfectly separates squares and circles). But it can often work quite well. Our strategy is as follows: for each misclassified pattern we will update the weights in the direction which would make the pattern correctly classified. A parameter called _learning rate_ will determine how strongly we bump the weights in that direction. Once we go through all training patterns we will start from the beginning, and repeat this process until the estimated classes (signs of dot products) stabilize, or, simpler, for some set number of iterations."
   ]
  },
  {
   "cell_type": "code",
   "execution_count": null,
   "id": "6b011865",
   "metadata": {},
   "outputs": [],
   "source": [
    "def train(X, y, lr=0.1, n_iter=30):\n",
    "    # X : a (n, d) matrix with rows being training examples (digits)\n",
    "    # y : a (d, 1) vector of labels\n",
    "\n",
    "    n, d = X.shape\n",
    "    w = np.zeros((d,))\n",
    "    \n",
    "    for i_iter in range(n_iter):\n",
    "        for i_example in range(n):\n",
    "            y_est = np.sign(np.dot(X[i_example], w))\n",
    "\n",
    "            if y_est != y[i_example]:\n",
    "                w += lr * X[i_example] * y[i_example]\n",
    "        \n",
    "    return w"
   ]
  },
  {
   "cell_type": "markdown",
   "id": "fe99993f",
   "metadata": {},
   "source": [
    "(Check class notes to see a better implementation.) We now apply this to MNIST."
   ]
  },
  {
   "cell_type": "code",
   "execution_count": null,
   "id": "8c6762a5",
   "metadata": {},
   "outputs": [],
   "source": [
    "w = train(X, y)\n",
    "\n",
    "error_count = np.sum(np.sign(X @ w) * y < 0 )\n",
    "print(\"%d out of %d patterns are misclassified\" % (error_count, n))"
   ]
  },
  {
   "cell_type": "markdown",
   "id": "94e75b02",
   "metadata": {},
   "source": [
    "A much better result than what we initially obtained with random weights! Let's try to visualize the digits in a way that clearly shows that we've got ourselves some good weights. We need a way to represent the digits which live in a $28 \\times = 784$ dimensional space by points in the 2D plane. We will do it like this: choose two directions $\\mathbf{e}_1, \\mathbf{e}_2 \\in \\mathbb{R}^{784}$ and then represent a digit $\\mathbf{x}$ by a point $(\\mathbf{e}_1^T \\mathbf{x}, \\mathbf{e}_2^T \\mathbf{x})$ in the plane. We'll choose $\\mathbf{e}_2 = \\mathbf{w} / \\| \\mathbf{w} \\|$ becase we're interested in what the distribution of points looks like along the direction of the weights. Then we'll set $\\mathbf{e}_1$ to some unit vector orthogonal to $\\mathbf{e}_2$. Since there are 783 orthogonal directions, we choose one at random. You can check that the computed vectors are indeed orthogonal."
   ]
  },
  {
   "cell_type": "code",
   "execution_count": null,
   "id": "f22ca751",
   "metadata": {},
   "outputs": [],
   "source": [
    "w_orth = np.random.randn(d) \n",
    "w_orth -= w * np.dot(w_orth, w) / np.linalg.norm(w)**2\n",
    "\n",
    "X_w = X @ w / np.linalg.norm(w)\n",
    "X_orth = X @ w_orth / np.linalg.norm(w_orth)\n",
    "\n",
    "fig, ax = plt.subplots(figsize=(8, 5))\n",
    "ax.scatter(X_orth[y==1], X_w[y==1])\n",
    "ax.scatter(X_orth[y==-1], X_w[y==-1]);"
   ]
  },
  {
   "cell_type": "markdown",
   "id": "a903e9bf",
   "metadata": {},
   "source": [
    "## What do the weights do?\n",
    "\n",
    "An important benefit of using simple linear classifiers is that we can visualize the weights as a 28 $\\times$ 28 image and see exactly how the different digits are distinguished. Such _interpretability_ is a desirable property of pattern recognition systems, but it's often absent in modern approaches based on large deep neural networks."
   ]
  },
  {
   "cell_type": "code",
   "execution_count": null,
   "id": "9c0ae858",
   "metadata": {},
   "outputs": [],
   "source": [
    "fig, ax = plt.subplots(figsize=(8, 8))\n",
    "im = ax.imshow(w.reshape(28, 28), cmap='winter')\n",
    "_ = fig.colorbar(im, ax=ax, shrink=0.6)"
   ]
  },
  {
   "cell_type": "markdown",
   "id": "2f1a6a2b",
   "metadata": {},
   "source": [
    "## A different classifier: counting neighbor labels\n",
    "\n",
    "We have successfully constructed our first pattern classification system. The idea was perhaps a bit abstract and probably different from how you would go about classifying patterns by hand. \n",
    "\n",
    "```{figure} ./images/Meyer_Lemon.jpg\n",
    "A Meyer lemon.\n",
    "```\n",
    "Imagine I ask you to classify a citrus as either a Meyer lemon or an ordinary lemon. I also give you 30 ordinary lemons and 30 Meyer lemons. The way you'd solve this problem is most likely by comparing the lemon to the two piles and assigning it to the pile that contains more similar lemons. \n",
    "\n",
    "Let's turn this intuitive approach into an algorithm. The idea is as follows: for a patter we want to classify, we will find $k$ patterns that are closest to it in the training set. Then we will do a majority vote: find the label that occurs most often among the neighbors and declare this label to be our estimate."
   ]
  },
  {
   "cell_type": "code",
   "execution_count": null,
   "id": "0a4c8db1",
   "metadata": {},
   "outputs": [],
   "source": [
    "k = 31\n",
    "error_count = 0\n",
    "for i_example in range(n):\n",
    "\n",
    "    # compute distance from the current example\n",
    "    # to all other\n",
    "    dist2 = np.sum((X - X[i_example])**2, axis=1)\n",
    "\n",
    "    # find k closest examples, ignoring zero \n",
    "    # distance to the current one\n",
    "    k_closest_idx = np.argsort(dist2)[1:k + 1]\n",
    "\n",
    "    # do majority vote on the corresponding labels\n",
    "    y_est = np.sign(y[k_closest_idx].sum())\n",
    "\n",
    "    # check for errors\n",
    "    if y_est * y[i_example] < 0:\n",
    "        error_count += 1\n",
    "\n",
    "print(\"The number of misclassified points is: \", error_count)"
   ]
  },
  {
   "cell_type": "markdown",
   "id": "f9415834",
   "metadata": {},
   "source": [
    "This is pretty slow but in the end we get quite a decent result. The right thing to do would be to test how this works for patterns outside of the training set, but for the moment let's just keep playing around and building intuition.\n",
    "\n",
    "## Which $k$ works best? \n",
    "\n",
    "In the above example we chose the number of neighbors as $k = 31$ for no particular reason. Intutively, this value should have a marked effect on the behavior of our classifier. Let us test many different values of $k$ to figure out which one is the best. Before we do that... we need to do something with the code above which is far too slow to run over and over for different $k$. The idea is to leverage fast mathematical primitives used by `numpy`, in particular matrix multiplication. To understand what the formula in the below code does, check out this [paper about Euclidean distance matrices](https://infoscience.epfl.ch/record/221380/files/EDM%283%29.pdf)."
   ]
  },
  {
   "cell_type": "code",
   "execution_count": null,
   "id": "451680f2",
   "metadata": {},
   "outputs": [],
   "source": [
    "ec = []\n",
    "G = X @ X.T # ref: EDMs -> hw\n",
    "dist22 = np.diag(G)[:, np.newaxis] - 2*G + np.diag(G)[np.newaxis, :]\n",
    "sorted_dist_idx = np.argsort(dist22, axis=1)\n",
    "\n",
    "for k in range(2, 100, 2):\n",
    "    k_closest_idx = sorted_dist_idx[:, 1:k + 1]\n",
    "    y_est = np.sign(y[k_closest_idx].sum(axis=1))\n",
    "    error_count = (y_est * y <= 0).sum()    \n",
    "    ec.append(error_count)\n",
    "\n",
    "plt.plot(ec, linewidth=3)\n",
    "plt.xlabel('$k$')\n",
    "plt.ylabel('Misclassified points');"
   ]
  },
  {
   "cell_type": "markdown",
   "id": "0d84feab",
   "metadata": {},
   "source": [
    "It seems that both $k$ too small and $k$ too large are bad. Can you guess why?\n",
    "\n",
    "It would be great to get some visual intution about what is going on, but we cannot easily do that for the $28 \\times 28$ digits: we would have to find a way to visualize 784-dimensional space. Luckily there are many datasets with a small number of features which make more sense.\n",
    "\n",
    "\n",
    "## The Iris flower datset\n",
    "\n",
    "Another legendary dataset used by almost every data science course on the planet is the Iris flower dataset compiled by Ronald Fisher, probably the most important statistician of all time (and a complicated person privately and publicly)."
   ]
  },
  {
   "cell_type": "code",
   "execution_count": null,
   "id": "c0ebba30",
   "metadata": {
    "slideshow": {
     "slide_type": "subslide"
    }
   },
   "outputs": [],
   "source": [
    "# Modified from Gaël Varoquaux\n",
    "\n",
    "from sklearn import datasets\n",
    "\n",
    "iris = datasets.load_iris()\n",
    "X_iris = iris.data[:, :2]  # take only the first two features\n",
    "y_iris = iris.target\n",
    "\n",
    "x_min, x_max = X_iris[:, 0].min() - 0.5, X_iris[:, 0].max() + 0.5\n",
    "y_min, y_max = X_iris[:, 1].min() - 0.5, X_iris[:, 1].max() + 0.5\n",
    "\n",
    "plt.figure(figsize=(7, 5))\n",
    "\n",
    "plt.scatter(X_iris[:, 0], X_iris[:, 1], c=y_iris, cmap=plt.cm.Set1, edgecolor=\"k\")\n",
    "plt.xlabel(\"Sepal length\")\n",
    "plt.ylabel(\"Sepal width\")\n",
    "\n",
    "plt.xlim(x_min, x_max)\n",
    "_ = plt.ylim(y_min, y_max)"
   ]
  },
  {
   "cell_type": "markdown",
   "id": "92f1bc31",
   "metadata": {},
   "source": [
    "We again focus on two classes:"
   ]
  },
  {
   "cell_type": "code",
   "execution_count": null,
   "id": "8d6f9b18",
   "metadata": {},
   "outputs": [],
   "source": [
    "excluded_class = 2\n",
    "classes = np.setdiff1d([0, 1, 2], excluded_class)\n",
    "X = X_iris[y_iris != excluded_class]\n",
    "y = y_iris[y_iris != excluded_class]\n",
    "y[y == classes[0]] = -1\n",
    "y[y == classes[1]] = 1"
   ]
  },
  {
   "cell_type": "code",
   "execution_count": null,
   "id": "2487e38a",
   "metadata": {
    "slideshow": {
     "slide_type": "subslide"
    }
   },
   "outputs": [],
   "source": [
    "X -= X.mean(axis=0)\n",
    "\n",
    "w = train(X, y)\n",
    "w /= np.linalg.norm(w)\n",
    "w_orth = np.array([1, -w[0] / w[1]])\n",
    "\n",
    "x_min, x_max = X[:, 0].min() - 0.5, X[:, 0].max() + 0.5\n",
    "y_min, y_max = X[:, 1].min() - 0.5, X[:, 1].max() + 0.5\n",
    "\n",
    "plt.figure(figsize=(6, 4))\n",
    "plt.scatter(X[:, 0], X[:, 1], c=y, cmap=plt.cm.Set1, edgecolor=\"k\")\n",
    "s = 20\n",
    "plt.plot([-s*w_orth[0], s*w_orth[0]], [-s*w_orth[1], s*w_orth[1]], 'k', linewidth=2)\n",
    "plt.xlabel(\"Sepal length\")\n",
    "plt.ylabel(\"Sepal width\")\n",
    "plt.xlim(x_min, x_max)\n",
    "_ = plt.ylim(y_min, y_max)"
   ]
  },
  {
   "cell_type": "code",
   "execution_count": null,
   "id": "3605dd30",
   "metadata": {
    "slideshow": {
     "slide_type": "subslide"
    }
   },
   "outputs": [],
   "source": [
    "k = 51\n",
    "n_points = 200\n",
    "x_ = np.linspace(x_min, x_max, n_points)\n",
    "y_ = np.linspace(y_min, y_max, n_points)\n",
    "\n",
    "xx, yy = np.meshgrid(x_, y_)\n",
    "label = np.zeros(xx.shape)\n",
    "\n",
    "for i in range(n_points):\n",
    "    for j in range(n_points):\n",
    "        point = np.array([xx[i, j], yy[i, j]]) # classify current point\n",
    "        knn_idx = np.argsort(np.sum((X - point)**2, axis=1))[:k]\n",
    "        label[i, j] = np.sign(y[knn_idx].sum())\n",
    "\n",
    "plt.figure(figsize=(8, 6))\n",
    "plt.scatter(X[:, 0], X[:, 1], c=(y/2+1), cmap=plt.cm.Set1, edgecolor=\"k\")\n",
    "plt.plot([-s*w_orth[0], s*w_orth[0]], [-s*w_orth[1], s*w_orth[1]], 'k', linewidth=2)\n",
    "_ = plt.imshow(np.flipud(label), cmap='summer', extent=[x_min, x_max, y_min, y_max])"
   ]
  },
  {
   "cell_type": "markdown",
   "id": "1235f761",
   "metadata": {},
   "source": [
    "## The perceptron\n",
    "\n",
    "\n",
    "## Well, we first reinvented the _perceptron_\n",
    "\n",
    "```{figure} ./images/rosenblatt.jpg\n",
    "---\n",
    "scale: 50%\n",
    "align: right\n",
    "---\n",
    "```  \n",
    "The perceptron is a brainchild of Frank Rosenblatt who was an American psychologist working on artificial intelligence. The algorithm received major press coverage at the time, with the hype not too different from what we have witnessed over the past decade with deep learning (with the notable difference that the perceptron was indeed quite limited in its capabilities and generalizations were far away). Frank Rosenblatt's discovery has huge implications today since the perceptron is more or less the artificial neuron used in today's deep neural networks, and the training algorithm (which is really the key) is related to error backpropagation used to train modern deep neural networks.\n",
    "\n",
    "\n",
    "```{figure} ./images/nytp.png\n",
    "---\n",
    "scale: 50%\n",
    "align: left\n",
    "---\n",
    "The New York Times, 1958\n",
    "```\n",
    "\n",
    "\n",
    "```{figure} ./images/0925_rosenblatt4.jpg\n",
    "---\n",
    "scale: 50%\n",
    "align: left\n",
    "---\n",
    "The New York Times, 1958\n",
    "```\n",
    "\n",
    "## We then reinvented $k$ nearest neighbors\n",
    "\n",
    "```{figure} ./images/tomcover.jpg\n",
    "---\n",
    "scale: 50%\n",
    "align: left\n",
    "---\n",
    "```\n",
    "- Evelyn Fix & Joseph Lawson Hodges Jr. circa 1951\n",
    "- Expanded and analyzed by Thomas Cover (on the left)\n",
    "- Despite simplicity it is an incredibly useful technique, and one which has been keeping machine learning theorists busy for many years \n",
    "\n",
    "## Some of the questions we must answer\n",
    "\n",
    "- Which classifier is better?\n",
    "- What does \"better\" even mean?\n",
    "\n",
    "## We have been committing a crime\n",
    "\n",
    "- We \"trained\", \"validated\", and \"tested\" on one and the same dataset\n",
    "- For $k$NN it's even a bit silly (consider the iris example)\n",
    "\n",
    "\n",
    "## This course\n",
    "\n",
    "- \"Pattern recognition\" very close to \"machine learning\"\n",
    "- Focus in PR is on \"supervised learning\"\n",
    "    - classification\n",
    "    - prediction\n",
    "- But \"unsupervised learning\" plays a key role\n",
    "    - representation learning\n",
    "    - feature maps: learning good features\n",
    "\n",
    "## Beware\n",
    "\n",
    "- The language of pattern recognition is mathematical\n",
    "- We will give intuition but to really get it, make sure you know your probability and linear algebra well\n",
    "- That is a good thing; without the formal understanding PR would not be where it's now\n",
    "- Let me tell you a story about interviewing people for CeDA...\n",
    "\n",
    "\n",
    "## Key mathematical tools\n",
    "\n",
    "### Probability theory (and statistics)\n",
    "\n",
    "- What is a random variable? A random vector?\n",
    "- A joint distribution? A conditional distribution? An expectation?\n",
    "- What are independent random variables?\n",
    "- ...\n",
    "\n",
    "### Linear algebra\n",
    "\n",
    "- What does $\\mathbf{w}^T \\mathbf{x}$ mean? How about $\\| \\mathbf{x} \\|$?\n",
    "- Why is $\\arg \\min_{\\mathbf{w}} ~ \\| \\mathbf{y} - \\mathbf{X} \\mathbf{w} \\|^2 + \\lambda \\| \\mathbf{x} \\|^2 $ precisely $\\mathbf{x}^* = ( \\mathbf{X}^T \\mathbf{X} + \\lambda \\mathbf{I})^{-1} \\mathbf{X}^T \\mathbf{y}$\n",
    "- What does it mean to invert a matrix?\n",
    "- What is a projection?\n",
    "- ..."
   ]
  }
 ],
 "metadata": {
  "jupytext": {
   "text_representation": {
    "extension": ".md",
    "format_name": "myst",
    "format_version": 0.13,
    "jupytext_version": "1.14.1"
   }
  },
  "kernelspec": {
   "display_name": "Python 3 (ipykernel)",
   "language": "python",
   "name": "python3"
  },
  "language_info": {
   "codemirror_mode": {
    "name": "ipython",
    "version": 3
   },
   "file_extension": ".py",
   "mimetype": "text/x-python",
   "name": "python",
   "nbconvert_exporter": "python",
   "pygments_lexer": "ipython3",
   "version": "3.10.6"
  },
  "source_map": [
   26,
   39,
   66,
   77,
   93,
   108,
   112,
   116,
   163,
   176,
   179,
   183,
   230,
   238,
   246,
   252,
   260,
   276,
   279,
   284,
   288,
   298,
   305,
   309,
   322,
   343,
   351,
   367,
   378,
   402,
   407,
   416,
   440,
   463
  ],
  "substitutions": {
   "fig2Da": "```{image} images/linear-random-1.svg\n:alt: fig2Da\n```\n",
   "fig2Db": "```{image} images/linear-random.svg\n:alt: fig2Db\n```  "
  }
 },
 "nbformat": 4,
 "nbformat_minor": 5
}