{
 "cells": [
  {
   "cell_type": "markdown",
   "id": "fdd3aab1",
   "metadata": {},
   "source": [
    "# Filtering"
   ]
  },
  {
   "cell_type": "code",
   "execution_count": 1,
   "id": "9de656d0",
   "metadata": {
    "tags": [
     "hide-input"
    ]
   },
   "outputs": [
    {
     "ename": "ModuleNotFoundError",
     "evalue": "No module named 'tqdm'",
     "output_type": "error",
     "traceback": [
      "\u001b[0;31m---------------------------------------------------------------------------\u001b[0m",
      "\u001b[0;31mModuleNotFoundError\u001b[0m                       Traceback (most recent call last)",
      "Cell \u001b[0;32mIn[1], line 4\u001b[0m\n\u001b[1;32m      2\u001b[0m \u001b[38;5;28;01mimport\u001b[39;00m \u001b[38;5;21;01mmatplotlib\u001b[39;00m\u001b[38;5;21;01m.\u001b[39;00m\u001b[38;5;21;01mpyplot\u001b[39;00m \u001b[38;5;28;01mas\u001b[39;00m \u001b[38;5;21;01mplt\u001b[39;00m\n\u001b[1;32m      3\u001b[0m \u001b[38;5;28;01mimport\u001b[39;00m \u001b[38;5;21;01mmatplotlib\u001b[39;00m \u001b[38;5;28;01mas\u001b[39;00m \u001b[38;5;21;01mmpl\u001b[39;00m\n\u001b[0;32m----> 4\u001b[0m \u001b[38;5;28;01mfrom\u001b[39;00m \u001b[38;5;21;01mtqdm\u001b[39;00m \u001b[38;5;28;01mimport\u001b[39;00m tqdm\n\u001b[1;32m      6\u001b[0m mpl\u001b[38;5;241m.\u001b[39mrcParams[\u001b[38;5;124m'\u001b[39m\u001b[38;5;124maxes.spines.top\u001b[39m\u001b[38;5;124m'\u001b[39m] \u001b[38;5;241m=\u001b[39m \u001b[38;5;241m0\u001b[39m\n\u001b[1;32m      7\u001b[0m mpl\u001b[38;5;241m.\u001b[39mrcParams[\u001b[38;5;124m'\u001b[39m\u001b[38;5;124maxes.spines.right\u001b[39m\u001b[38;5;124m'\u001b[39m] \u001b[38;5;241m=\u001b[39m \u001b[38;5;241m0\u001b[39m\n",
      "\u001b[0;31mModuleNotFoundError\u001b[0m: No module named 'tqdm'"
     ]
    }
   ],
   "source": [
    "import numpy as np\n",
    "import matplotlib.pyplot as plt\n",
    "import matplotlib as mpl\n",
    "from tqdm import tqdm\n",
    "\n",
    "mpl.rcParams['axes.spines.top'] = 0\n",
    "mpl.rcParams['axes.spines.right'] = 0\n",
    "mpl.rcParams['axes.spines.left'] = 1\n",
    "mpl.rcParams['axes.spines.bottom'] = 1\n",
    "mpl.rcParams.update({'font.size': 12})"
   ]
  },
  {
   "cell_type": "markdown",
   "id": "a81bb4b6",
   "metadata": {},
   "source": [
    "## Discrete Fourier Transform\n",
    "\n",
    "We have seen that the discrete-time Fourier transform (or discrete-space Fourier transform) is a great tool to understand linear shift-invariant filtering of discrete signal and imaging. On the other hand, it is clear that in a computer we will only ever deal with finite-length signals, and in the case of images, often standardized dimensions. It is natural to ask whether there exists a tool similar to DTFT that is tailor-made for finite-length (finite-support) signals. This is also related to the fact that the frequency $\\omega$ in DTFT is continuous: there are uncountably many possible values that it can take between $-\\pi$ and $\\pi$. But if our images are of size $64 \\times 64 = 4096$ then we know that we can choose a 4096-dimensional basis to represent any image as a superposition of elements in that basis. It thus seems wasteful to use superpositions of an uncountable infinity complex exponentials with different frequency to represent such images.[^1]\n",
    "\n",
    "\n",
    "We'd like to have a Fourier transform for finite-length signals (say of length $N$), which requires only $N$ basis functions, or $N$ frequencies. A natural way to do that is to subdivide $[-\\pi, \\pi)$ into $N$ intervals of equal length, that is to say, choose the sinusoids with discretized frequencies\n",
    "\n",
    "$$\n",
    "  \\omega_k = \\frac{2\\pi}{N}k, \\ \\text{for} \\ k \\in \\{ 0, 1, \\ldots, N - 1 \\}.\n",
    "$$\n",
    "The corresponding base complex exponentials are the roots of unity. That is, $e^{i \\omega_k}$ are the solutions to\n",
    "\n",
    "$$\n",
    "  z^N = 1,\n",
    "$$\n",
    "\n",
    "equally spaced on the unit circle. Here is an illustration for $N = 8$:"
   ]
  },
  {
   "cell_type": "code",
   "execution_count": null,
   "id": "ace87095",
   "metadata": {},
   "outputs": [],
   "source": [
    "N = 8\n",
    "angles = np.linspace(0, 2*np.pi, 128, endpoint=True)\n",
    "root_angles = 2 * np.pi / N * np.arange(N)\n",
    "fig, ax = plt.subplots(1, 1, figsize=(8, 8))\n",
    "\n",
    "ax.spines[['left', 'bottom']].set_position('center')\n",
    "ax.spines[['right', 'top']].set_color('none')\n",
    "ax.xaxis.set_ticks_position('bottom')\n",
    "ax.yaxis.set_ticks_position('left')\n",
    "\n",
    "ax.plot(np.cos(angles), np.sin(angles))\n",
    "ax.plot(np.cos(root_angles), np.sin(root_angles), 'o', markersize=20)\n",
    "ax.set_aspect(1)"
   ]
  },
  {
   "cell_type": "markdown",
   "id": "ec2b3c95",
   "metadata": {},
   "source": [
    "It turns out that such sinusoids are orthogonal. Indeed, denoting $\\nu_{k}[n] = e^{i \\omega_k n}$, we get that\n",
    "\n",
    "$$\n",
    "\\begin{aligned}\n",
    "  \\langle \\nu_k, \\nu_\\ell \\rangle \n",
    "  &= \\sum_{n = 0}^{N - 1} \\nu_k[n] \\nu_\\ell[n] \\\\\n",
    "  &= \\sum_{n = 0}^{N - 1} e^{i \\omega_k n} e^{-i \\omega_\\ell n} \\\\\n",
    "  &= \\sum_{n = 0}^{N - 1} e^{i \\frac{2\\pi n}{N} (k - \\ell) } \\\\\n",
    "  &= (\\ast)\n",
    "\\end{aligned}\n",
    "$$\n",
    "If $k = \\ell$ the exponent is zero and the result is simply $N$. To make progress for $k \\neq \\ell$ we recall the formula for partial sums of a geometric series,\n",
    "\n",
    "$$\n",
    "  \\sum_{n = 0}^{N - 1} a^n = \\frac{1 - a^N}{1 - a}.\n",
    "$$\n",
    "\n",
    "Applying the formula with $a = e^{i \\frac{2 \\pi (k - \\ell)}{N}}$ we get that\n",
    "\n",
    "$$\n",
    "  (\\ast) \n",
    "  = \\frac{1 - (e^{i \\frac{2 \\pi (k - \\ell)}{N}})^N} {1 - e^{i \\frac{2 \\pi (k - \\ell)}{N}}}\n",
    "$$\n",
    "\n",
    "Now since $(e^{i \\frac{2 \\pi (k - \\ell)}{N}})^N = e^{i 2 \\pi (k - \\ell)} = 1$ (recall that the complex exponential is $2\\pi$-periodic, we see that\n",
    "\n",
    "$$\n",
    "   \\langle \\nu_k, \\nu_\\ell \\rangle \n",
    "   =\n",
    "   \\begin{cases}\n",
    "      N & k = \\ell \\\\\n",
    "      0 & k \\neq \\ell.\n",
    "   \\end{cases}\n",
    "$$\n",
    "\n",
    "```{admonition} Exercise\n",
    "Write a code snippet to test this orthogonality numerically.\n",
    "```\n",
    "\n",
    "This finally allows us to define the forward and the inverse discrete Fourier transform (DFT) as\n",
    "\n",
    "$$\n",
    "  X[k] = \\sum_{n = 0}^{N - 1} x[n] e^{-i \\frac{2\\pi}{N} nk}\n",
    "  \\quad\n",
    "  \\longleftrightarrow\n",
    "  \\quad\n",
    "  x[n] = \\frac{1}{N} \\sum_{k = 0}^{N - 1} X[k] e^{i \\frac{2\\pi}{N} kn}.\n",
    "$$\n",
    "\n",
    "\n",
    "\n",
    "## An alternative view of the DFT\n",
    "\n",
    "Is there an alternative intuitive derivation of the DFT? Sure there is! We can obtain it as a limit DTFT for periodized signals. The math gets a bit involved, especially if you want to do it carefully, so we won't go into the details. But we can write some code. We begin with a simple triangular pulse of $L$ samples:"
   ]
  },
  {
   "cell_type": "code",
   "execution_count": null,
   "id": "b76c9d48",
   "metadata": {},
   "outputs": [],
   "source": [
    "L = 31\n",
    "n_pulse = np.arange(1 + 2*L)\n",
    "x = (L - np.abs(n_pulse - L)) / L\n",
    "x -= x.mean()\n",
    "plt.plot(n_pulse, x, '.');"
   ]
  },
  {
   "cell_type": "markdown",
   "id": "12bd85c8",
   "metadata": {},
   "source": [
    "Assuming that this pulse is extended by zeros to both infinities we can plot its DTFT."
   ]
  },
  {
   "cell_type": "code",
   "execution_count": null,
   "id": "25e94429",
   "metadata": {},
   "outputs": [],
   "source": [
    "from scipy.signal import freqz\n",
    "\n",
    "omega, X = freqz(x)\n",
    "plt.plot(omega, np.abs(X))\n",
    "plt.xlabel('$\\\\omega$')\n",
    "plt.ylabel('$X(\\\\omega)$');"
   ]
  },
  {
   "cell_type": "markdown",
   "id": "429874cb",
   "metadata": {},
   "source": [
    "(We are only showing the spectral magnitude for frequencies $\\omega \\in [0, \\pi)$ since for real-valued signals $x[n]$ we have that $X(-\\omega) = X(\\omega)^\\ast$ so that $|X(-\\omega)| = |X(\\omega)|$.)\n",
    "\n",
    "We now construct a _periodic extension_ $\\tilde{x}[n]$ of $x[n]$ by repeating $x[n]$ a number of times, and compute its DTFT:"
   ]
  },
  {
   "cell_type": "code",
   "execution_count": null,
   "id": "92095334",
   "metadata": {},
   "outputs": [],
   "source": [
    "R_list = [2, 5, 1000] # number of repetitions\n",
    "\n",
    "fig, axs = plt.subplots(2, 3, figsize=(12, 6))\n",
    "for i_R, R in enumerate(R_list):\n",
    "  x_tilde = np.tile(x, R)\n",
    "  omega, X_tilde = freqz(x_tilde)\n",
    "  axs[0, i_R].plot(np.arange(len(x_tilde)), x_tilde)\n",
    "  axs[1, i_R].plot(omega, np.abs(X_tilde))\n",
    "  axs[1, i_R].set_ylim(0, 50)"
   ]
  },
  {
   "cell_type": "markdown",
   "id": "c187352b",
   "metadata": {},
   "source": [
    "We see that the more periodic repetitions we make, the more discrete the spectrum becomes! With a bit more work we could prove that the spacing between the spectral lines is exactly $2\\pi$ divided by the number of samples in one period. (For ease of visualization we plotted the signals as if they were continuous, but they are discrete.)\n",
    "\n",
    "## Implicit periodization\n",
    "\n",
    "From the definition of the DFT and the above discussion, we see that the DFT implicitly periodizes the finite-length signals. The expression for the inverse transform,\n",
    "\n",
    "$$\n",
    "  x[n] = \\frac{1}{N} \\sum_{k = 0}^{N - 1} X[k] e^{i \\frac{2\\pi k}{N} n},\n",
    "$$\n",
    "\n",
    "should a priori only make sense for those $n$ where the signal is defined, namely from $0$ to $N - 1$. But there is nothing preventing us from evaluating it elsewhere, whence it indeed follows that\n",
    "\n",
    "$$\n",
    "\\begin{aligned}\n",
    "  x[n + N]\n",
    "  &= \\frac{1}{N} \\sum_{k = 0}^{N - 1} X[k] e^{i \\frac{2\\pi k}{N} (n + N)} \\\\\n",
    "  &= \\frac{1}{N} \\sum_{k = 0}^{N - 1} X[k] e^{i \\frac{2\\pi k}{N} n} e^{i \\frac{2\\pi k}{N} N} \\\\\n",
    "  &= \\frac{1}{N} \\sum_{k = 0}^{N - 1} X[k] e^{i \\frac{2\\pi k}{N} n}.\n",
    "\\end{aligned}\n",
    "$$\n",
    "Thus with the DFT both the spectrum $X[k]$ and the signal $x[n]$ are implicitly periodic.\n",
    "\n",
    " \n",
    "```{note}\n",
    "(Warning: puritanism) Strictly speaking we should not use $x[n]$ in the above expression since our starting $x[n]$ is only defined for $n \\in \\{ 0, \\ldots, N - 1\\}$. The inverse DFT agrees with $x[n]$ on this interval but is also defined everywhere else.\n",
    "```\n",
    "\n",
    "\n",
    "## Circular convolution\n",
    "\n",
    "We've seen that the DTFT gives us a nice and useful interpretation of convolution in the frequency domain. Do we get the same with the DFT? Well... almost. Since DFT implicitly treats the signals as periodic we have to replace our old definition of convolution by the so-called circular convolution. This just means that when we run out of indices, we wrap around back to the beginning. We'll use the following convenient modulo notation,\n",
    "\n",
    "$$\n",
    "  (n)_N = n - N \\lfloor n / N \\rfloor\n",
    "$$\n",
    "\n",
    "which is just the usual modulo-$N$ division. For example, $(7)_8 = 7$, $(8)_8 = 0$, $(9)_8 = 1$.\n",
    "\n",
    "This yields the definition\n",
    "\n",
    "$$\n",
    "  (x \\circledast_N h)[n] = \\sum_{m = 0}^{N - 1} x[m] h[(n - m)_N].\n",
    "$$\n",
    "We will omit the subscript $N$ in $\\circledast_N$ when it is clear from context.\n",
    "\n",
    "With this definition it is not hard to show (do it for fun!) that if $y = x \\circledast h$ and $X[k]$, $H[k]$, and $Y[k]$ are the DFTs of $x[n]$, $h[n]$, and $y[n]$, we have\n",
    "\n",
    "$$\n",
    "  Y[k] = X[k] H[k].\n",
    "$$\n",
    "\n",
    "Conversely, multiplying DFTs of two sequences corresponds to their circular convolution in time (or space when we work with images). This is very important to remember. Unlike forward and inverse DTFT which can only be approximated in a computer by finely discetizing the frequency $\\omega$, DFT can be implemented exactly (if we ignore the detail that we cannot represent real numbers with infinite precision). What is more, there exists a very efficient algorithm to compute the DFT of a sequence of length $N$. Naive computation requires to perform a number of operations roughtly proportional to $N^2$. This is because we want to compute $X[k]$ for $N$ different values of $k$, and for each $k$ we have to perform $N$ complex multiplications and sum the results. But the infamous fast Fourier transfrom (FFT) only needs a number of operations proportional to $N \\log_2 N$. That is an enormous saving. For $N = 4096$, $N^2 = 16,777,216$ but $N \\log_2 N = 49,152$. It is hard to overstate the importance of the FFT in ushering in and maintaining the digital era. This importance stems from the importance of filtering and computing convolutions. Just like naively computing the DFT, naively computing the (circular) convolution takes about $N^2$ operations. But consider this crazy idea: why not first transform both sequences we want to convolve using the FFT ($2 \\times N \\log N$) then compute the convolution in the DFT domain, which is just multiplication for every $k$ ($N$) and then transform the result back to the time (space) domain ($N \\log N$). The overall cost of this dance scales as $N \\log N$ and becomes preferable to the direct calculation already for relatively small $N$.\n",
    "\n",
    "## Linear vs circular convolution\n",
    "\n",
    "But there is a catch: we almost always want to compute or old _linear_[^2] convolution, not circular. Reverberation in a cathedral is not a cricular phenomenon. We need a way to use the described excursion via the FFT to _emulate_ linear convolution.\n",
    "\n",
    "Luckily, this is not hard. The idea is to pad the signal with zeros so that the modulo formula does not have to \"wrap around\". To see how, let again $x[n]$ be a signal of length $N$, and $h[n]$ a \"filter\" of length $N$. Now recall that the convolution of signals of length $N$ and $L$ has length $N + L - 1$. We thus define a zero-padded version of $x$ as \n",
    "\n",
    "$$\n",
    "  x_{\\text{ZP}}[n] \n",
    "  = \n",
    "  \\begin{cases}\n",
    "    x[n] & n \\in \\{0, 1, \\ldots, N - 1\\} \\\\\n",
    "    0    & n \\in \\{N, N + 1, \\ldots, 2N - 1\\}.\n",
    "  \\end{cases}\n",
    "$$\n",
    "\n",
    "It then follows that \n",
    "\n",
    "$$  \n",
    "  (x_{\\text{ZP}} \\circledast_N h)[n] = (x \\ast h)[n], \\quad \\text{for}~n \\in \\{0, 1, \\ldots, 2N - 1\\}.\n",
    "$$\n",
    "\n",
    "Zero padding is part of the broader theme of properly handling boundary conditions in convolution.\n",
    "\n",
    "\n",
    "\n",
    "[^1]: This is even true for infinite-support discrete time/space signals. Since they are indexed by integers $\\mathbb{Z}$ or pairs of integers $\\mathbb{Z}^2$, they are countable, and thus spanned by bases with much fewer elements than the interval $[-\\pi, \\pi)$ which has as many elements as the real line.\n",
    "\n",
    "[^2]: Here, _linear_ is not meant in the sense of a linear system, but in the sense of not being circular. Both \"linear\" and circular convolution with some filter $h$ and linear operators."
   ]
  }
 ],
 "metadata": {
  "jupytext": {
   "cell_metadata_filter": "-all",
   "formats": "md:myst",
   "text_representation": {
    "extension": ".md",
    "format_name": "myst",
    "format_version": 0.13,
    "jupytext_version": "1.14.1"
   }
  },
  "kernelspec": {
   "display_name": "Python 3 (ipykernel)",
   "language": "python",
   "name": "python3"
  },
  "language_info": {
   "codemirror_mode": {
    "name": "ipython",
    "version": 3
   },
   "file_extension": ".py",
   "mimetype": "text/x-python",
   "name": "python",
   "nbconvert_exporter": "python",
   "pygments_lexer": "ipython3",
   "version": "3.10.6"
  },
  "source_map": [
   14,
   18,
   31,
   52,
   67,
   124,
   130,
   134,
   141,
   146,
   156
  ]
 },
 "nbformat": 4,
 "nbformat_minor": 5
}